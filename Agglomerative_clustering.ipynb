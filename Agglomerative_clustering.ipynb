{
  "nbformat": 4,
  "nbformat_minor": 0,
  "metadata": {
    "colab": {
      "provenance": []
    },
    "kernelspec": {
      "name": "python3",
      "display_name": "Python 3"
    },
    "language_info": {
      "name": "python"
    }
  },
  "cells": [
    {
      "cell_type": "code",
      "execution_count": 37,
      "metadata": {
        "id": "X7xAp1J_LJAX"
      },
      "outputs": [],
      "source": [
        "import numpy as np\n",
        "import pandas as pd\n",
        "import matplotlib.pyplot as plt"
      ]
    },
    {
      "cell_type": "code",
      "source": [
        "data=pd.read_csv('/content/student college data (1).csv')"
      ],
      "metadata": {
        "id": "busSvDs4LhrJ"
      },
      "execution_count": 38,
      "outputs": []
    },
    {
      "cell_type": "code",
      "source": [
        "data['type_school']=data['type_school'].apply({'Academic':1,'Vocational':2}.get)\n",
        "data['school_accreditation']=data['school_accreditation'].apply({'A':1,'B':2}.get)\n",
        "data['gender']=data['gender'].apply({'Male':0,'Female':1}.get)\n",
        "data['interest']=data['interest'].apply({'Not Interested':0,'Less Interested':1,'Uncertain':2,'Very Interested':3}.get)\n",
        "data['residence']=data['residence'].apply({'Urban':1,'Rural':2}.get)\n",
        "data.parent_was_in_college=data.parent_was_in_college.replace({True:1,False:0})"
      ],
      "metadata": {
        "id": "53lHqARpOefz"
      },
      "execution_count": 40,
      "outputs": []
    },
    {
      "cell_type": "code",
      "source": [
        "data_new=data.dropna()"
      ],
      "metadata": {
        "id": "VDnQMS95QAFU"
      },
      "execution_count": 41,
      "outputs": []
    },
    {
      "cell_type": "code",
      "source": [
        "data_new.head()"
      ],
      "metadata": {
        "colab": {
          "base_uri": "https://localhost:8080/",
          "height": 206
        },
        "id": "aZ-YWw6IHYXd",
        "outputId": "ae085628-0175-4ed6-f461-f261652a9925"
      },
      "execution_count": 42,
      "outputs": [
        {
          "output_type": "execute_result",
          "data": {
            "text/plain": [
              "   type_school  school_accreditation  gender  interest  residence  parent_age  \\\n",
              "0            1                     1       0       1.0          1          56   \n",
              "1            1                     1       0       1.0          1          57   \n",
              "2            1                     2       1       3.0          1          50   \n",
              "3            2                     2       0       3.0          2          49   \n",
              "4            1                     1       1       3.0          1          57   \n",
              "\n",
              "   parent_salary  house_area  average_grades  parent_was_in_college  \n",
              "0        6950000        83.0           84.09                      0  \n",
              "1        4410000        76.8           86.91                      0  \n",
              "2        6500000        80.6           87.43                      0  \n",
              "3        6600000        78.2           82.12                      1  \n",
              "4        5250000        75.1           86.79                      0  "
            ],
            "text/html": [
              "\n",
              "  <div id=\"df-65836b2c-cae3-4a6a-9917-edf62c2b4771\">\n",
              "    <div class=\"colab-df-container\">\n",
              "      <div>\n",
              "<style scoped>\n",
              "    .dataframe tbody tr th:only-of-type {\n",
              "        vertical-align: middle;\n",
              "    }\n",
              "\n",
              "    .dataframe tbody tr th {\n",
              "        vertical-align: top;\n",
              "    }\n",
              "\n",
              "    .dataframe thead th {\n",
              "        text-align: right;\n",
              "    }\n",
              "</style>\n",
              "<table border=\"1\" class=\"dataframe\">\n",
              "  <thead>\n",
              "    <tr style=\"text-align: right;\">\n",
              "      <th></th>\n",
              "      <th>type_school</th>\n",
              "      <th>school_accreditation</th>\n",
              "      <th>gender</th>\n",
              "      <th>interest</th>\n",
              "      <th>residence</th>\n",
              "      <th>parent_age</th>\n",
              "      <th>parent_salary</th>\n",
              "      <th>house_area</th>\n",
              "      <th>average_grades</th>\n",
              "      <th>parent_was_in_college</th>\n",
              "    </tr>\n",
              "  </thead>\n",
              "  <tbody>\n",
              "    <tr>\n",
              "      <th>0</th>\n",
              "      <td>1</td>\n",
              "      <td>1</td>\n",
              "      <td>0</td>\n",
              "      <td>1.0</td>\n",
              "      <td>1</td>\n",
              "      <td>56</td>\n",
              "      <td>6950000</td>\n",
              "      <td>83.0</td>\n",
              "      <td>84.09</td>\n",
              "      <td>0</td>\n",
              "    </tr>\n",
              "    <tr>\n",
              "      <th>1</th>\n",
              "      <td>1</td>\n",
              "      <td>1</td>\n",
              "      <td>0</td>\n",
              "      <td>1.0</td>\n",
              "      <td>1</td>\n",
              "      <td>57</td>\n",
              "      <td>4410000</td>\n",
              "      <td>76.8</td>\n",
              "      <td>86.91</td>\n",
              "      <td>0</td>\n",
              "    </tr>\n",
              "    <tr>\n",
              "      <th>2</th>\n",
              "      <td>1</td>\n",
              "      <td>2</td>\n",
              "      <td>1</td>\n",
              "      <td>3.0</td>\n",
              "      <td>1</td>\n",
              "      <td>50</td>\n",
              "      <td>6500000</td>\n",
              "      <td>80.6</td>\n",
              "      <td>87.43</td>\n",
              "      <td>0</td>\n",
              "    </tr>\n",
              "    <tr>\n",
              "      <th>3</th>\n",
              "      <td>2</td>\n",
              "      <td>2</td>\n",
              "      <td>0</td>\n",
              "      <td>3.0</td>\n",
              "      <td>2</td>\n",
              "      <td>49</td>\n",
              "      <td>6600000</td>\n",
              "      <td>78.2</td>\n",
              "      <td>82.12</td>\n",
              "      <td>1</td>\n",
              "    </tr>\n",
              "    <tr>\n",
              "      <th>4</th>\n",
              "      <td>1</td>\n",
              "      <td>1</td>\n",
              "      <td>1</td>\n",
              "      <td>3.0</td>\n",
              "      <td>1</td>\n",
              "      <td>57</td>\n",
              "      <td>5250000</td>\n",
              "      <td>75.1</td>\n",
              "      <td>86.79</td>\n",
              "      <td>0</td>\n",
              "    </tr>\n",
              "  </tbody>\n",
              "</table>\n",
              "</div>\n",
              "      <button class=\"colab-df-convert\" onclick=\"convertToInteractive('df-65836b2c-cae3-4a6a-9917-edf62c2b4771')\"\n",
              "              title=\"Convert this dataframe to an interactive table.\"\n",
              "              style=\"display:none;\">\n",
              "        \n",
              "  <svg xmlns=\"http://www.w3.org/2000/svg\" height=\"24px\"viewBox=\"0 0 24 24\"\n",
              "       width=\"24px\">\n",
              "    <path d=\"M0 0h24v24H0V0z\" fill=\"none\"/>\n",
              "    <path d=\"M18.56 5.44l.94 2.06.94-2.06 2.06-.94-2.06-.94-.94-2.06-.94 2.06-2.06.94zm-11 1L8.5 8.5l.94-2.06 2.06-.94-2.06-.94L8.5 2.5l-.94 2.06-2.06.94zm10 10l.94 2.06.94-2.06 2.06-.94-2.06-.94-.94-2.06-.94 2.06-2.06.94z\"/><path d=\"M17.41 7.96l-1.37-1.37c-.4-.4-.92-.59-1.43-.59-.52 0-1.04.2-1.43.59L10.3 9.45l-7.72 7.72c-.78.78-.78 2.05 0 2.83L4 21.41c.39.39.9.59 1.41.59.51 0 1.02-.2 1.41-.59l7.78-7.78 2.81-2.81c.8-.78.8-2.07 0-2.86zM5.41 20L4 18.59l7.72-7.72 1.47 1.35L5.41 20z\"/>\n",
              "  </svg>\n",
              "      </button>\n",
              "      \n",
              "  <style>\n",
              "    .colab-df-container {\n",
              "      display:flex;\n",
              "      flex-wrap:wrap;\n",
              "      gap: 12px;\n",
              "    }\n",
              "\n",
              "    .colab-df-convert {\n",
              "      background-color: #E8F0FE;\n",
              "      border: none;\n",
              "      border-radius: 50%;\n",
              "      cursor: pointer;\n",
              "      display: none;\n",
              "      fill: #1967D2;\n",
              "      height: 32px;\n",
              "      padding: 0 0 0 0;\n",
              "      width: 32px;\n",
              "    }\n",
              "\n",
              "    .colab-df-convert:hover {\n",
              "      background-color: #E2EBFA;\n",
              "      box-shadow: 0px 1px 2px rgba(60, 64, 67, 0.3), 0px 1px 3px 1px rgba(60, 64, 67, 0.15);\n",
              "      fill: #174EA6;\n",
              "    }\n",
              "\n",
              "    [theme=dark] .colab-df-convert {\n",
              "      background-color: #3B4455;\n",
              "      fill: #D2E3FC;\n",
              "    }\n",
              "\n",
              "    [theme=dark] .colab-df-convert:hover {\n",
              "      background-color: #434B5C;\n",
              "      box-shadow: 0px 1px 3px 1px rgba(0, 0, 0, 0.15);\n",
              "      filter: drop-shadow(0px 1px 2px rgba(0, 0, 0, 0.3));\n",
              "      fill: #FFFFFF;\n",
              "    }\n",
              "  </style>\n",
              "\n",
              "      <script>\n",
              "        const buttonEl =\n",
              "          document.querySelector('#df-65836b2c-cae3-4a6a-9917-edf62c2b4771 button.colab-df-convert');\n",
              "        buttonEl.style.display =\n",
              "          google.colab.kernel.accessAllowed ? 'block' : 'none';\n",
              "\n",
              "        async function convertToInteractive(key) {\n",
              "          const element = document.querySelector('#df-65836b2c-cae3-4a6a-9917-edf62c2b4771');\n",
              "          const dataTable =\n",
              "            await google.colab.kernel.invokeFunction('convertToInteractive',\n",
              "                                                     [key], {});\n",
              "          if (!dataTable) return;\n",
              "\n",
              "          const docLinkHtml = 'Like what you see? Visit the ' +\n",
              "            '<a target=\"_blank\" href=https://colab.research.google.com/notebooks/data_table.ipynb>data table notebook</a>'\n",
              "            + ' to learn more about interactive tables.';\n",
              "          element.innerHTML = '';\n",
              "          dataTable['output_type'] = 'display_data';\n",
              "          await google.colab.output.renderOutput(dataTable, element);\n",
              "          const docLink = document.createElement('div');\n",
              "          docLink.innerHTML = docLinkHtml;\n",
              "          element.appendChild(docLink);\n",
              "        }\n",
              "      </script>\n",
              "    </div>\n",
              "  </div>\n",
              "  "
            ]
          },
          "metadata": {},
          "execution_count": 42
        }
      ]
    },
    {
      "cell_type": "code",
      "source": [
        "import scipy.cluster.hierarchy as sch \n",
        "plt.title('Wholesale Dendrogram')\n",
        "dendrogram=sch.dendrogram(sch.linkage(data_new,method='ward'))"
      ],
      "metadata": {
        "id": "A0fCy1iRvp-T",
        "colab": {
          "base_uri": "https://localhost:8080/",
          "height": 281
        },
        "outputId": "a8d386c4-8b41-4a41-9f9d-a5014084e405"
      },
      "execution_count": 51,
      "outputs": [
        {
          "output_type": "display_data",
          "data": {
            "text/plain": [
              "<Figure size 432x288 with 1 Axes>"
            ],
            "image/png": "[encoded data removed]"
          },
          "metadata": {
            "needs_background": "light"
          }
        }
      ]
    },
    {
      "cell_type": "code",
      "source": [
        "from sklearn.cluster import AgglomerativeClustering\n",
        "cluster=AgglomerativeClustering(n_clusters=3,affinity='euclidean',linkage='ward')\n",
        "cluster.fit_predict(data_new)"
      ],
      "metadata": {
        "colab": {
          "base_uri": "https://localhost:8080/"
        },
        "id": "Fo0tzyHW7X7Y",
        "outputId": "21530afc-47a4-4370-f526-a66493f0cfc7"
      },
      "execution_count": 52,
      "outputs": [
        {
          "output_type": "execute_result",
          "data": {
            "text/plain": [
              "array([2, 0, 1, 1, 1, 0, 1, 1, 1, 0, 1, 1, 2, 2, 0, 2, 0, 1, 2, 0, 1, 0,\n",
              "       1, 1, 0, 0, 0, 1, 1, 0, 0, 1, 1, 1, 1, 1, 2, 0, 1, 0, 1, 1, 1, 0,\n",
              "       0, 0, 2, 1, 2, 1, 1, 0, 1, 0, 0, 1, 0, 1, 1, 0, 1, 1, 1, 0, 1, 1,\n",
              "       1, 1, 0, 0, 2, 0, 1, 2, 1, 0, 1, 0, 1, 1, 2, 1, 1, 0, 0, 2, 2, 1,\n",
              "       1, 1, 1, 0, 0, 1, 0, 1, 0, 1, 1, 0, 1, 0, 2, 2, 2, 1, 0, 0, 0, 2,\n",
              "       1, 1, 2, 1, 2, 0, 0, 0, 1, 0, 1, 0, 0, 0, 0, 0, 1, 2, 1, 0, 1, 1,\n",
              "       1, 2, 0, 0, 2, 1, 0, 0, 1, 0, 0, 2, 0, 1, 0, 0, 2, 1, 0, 0, 1, 0,\n",
              "       1, 2, 0, 1, 0, 0, 1, 1, 0, 1, 1, 2, 0, 1, 1, 1, 0, 0, 1, 1, 0, 1,\n",
              "       1, 1, 0, 1, 0, 1, 1, 1, 1, 0, 0, 0, 1, 0, 1, 2, 1, 1, 1, 0, 1, 2,\n",
              "       0, 0, 2, 0, 1, 1, 2, 0, 0, 1, 1, 1, 1, 1, 1, 1, 0, 2, 0, 0, 2, 2,\n",
              "       0, 0, 1, 1, 1, 1, 1, 1, 0, 1, 0, 2, 1, 0, 0, 1, 2, 1, 0, 0, 1, 1,\n",
              "       0, 0, 1, 1, 1, 0, 0, 1, 0, 0, 2, 1, 2, 0, 1, 0, 0, 0, 1, 1, 0, 0,\n",
              "       1, 1, 0, 0, 2, 0, 1, 2, 1, 1, 0, 2, 1, 1, 2, 1, 1, 0, 0, 0, 0, 0,\n",
              "       1, 0, 1, 0, 1, 0, 0, 0, 2, 0, 0, 0, 1, 1, 0, 1, 0, 1, 2, 0, 1, 1,\n",
              "       1, 0, 0, 0, 0, 1, 0, 1, 1, 0, 2, 1, 1, 1, 1, 1, 0, 1, 1, 0, 0, 1,\n",
              "       0, 1, 1, 1, 0, 1, 0, 1, 1, 0, 0, 1, 1, 2, 1, 0, 0, 0, 2, 0, 0, 0,\n",
              "       0, 1, 1, 0, 2, 0, 2, 1, 1, 0, 0, 0, 1, 1, 0, 1, 1, 1, 1, 0, 0, 1,\n",
              "       0, 0, 1, 0, 0, 1, 1, 0, 1, 0, 0, 1, 0, 1, 1, 0, 0, 2, 0, 0, 1, 1,\n",
              "       0, 1, 1, 1, 0, 0, 1, 1, 0, 1, 0, 2, 1, 0, 0, 1, 2, 1, 1, 2, 1, 0,\n",
              "       1, 2, 1, 1, 0, 2, 0, 1, 2, 2, 0, 1, 2, 0, 0, 0, 2, 0, 1, 0, 1, 1,\n",
              "       1, 1, 2, 1, 2, 1, 0, 0, 2, 1, 1, 0, 0, 0, 1, 2, 0, 2, 1, 0, 1, 1,\n",
              "       0, 0, 0, 1, 1, 1, 0, 1, 1, 2, 1, 0, 1, 0, 1, 0, 1, 1, 2, 0, 1, 1,\n",
              "       2, 0, 1, 0, 1, 1, 0, 2, 0, 0, 1, 0, 0, 0, 0, 1, 1, 0, 2, 2, 0, 0,\n",
              "       0, 2, 1, 0, 2, 1, 0, 0, 1, 1, 1, 0, 1, 2, 0, 0, 0, 1, 2, 2, 1, 0,\n",
              "       2, 1, 1, 1, 1, 1, 1, 0, 1, 1, 1, 1, 1, 1, 2, 0, 1, 0, 0, 1, 2, 0,\n",
              "       0, 1, 2, 1, 0, 1, 1, 1, 0, 0, 0, 0, 0, 0, 0, 1, 1, 0, 0, 1, 1, 1,\n",
              "       2, 1, 0, 0, 2, 0, 1, 0, 0, 0, 1, 0, 2, 0, 0, 1, 1, 1, 2, 2, 1, 2,\n",
              "       1, 0, 0, 1, 1, 1, 1, 2, 1, 1, 2, 0, 0, 0, 1, 2, 2, 0, 0, 1, 1, 1,\n",
              "       1, 2, 1, 2, 2, 1, 1, 0, 1, 2, 1, 2, 0, 2, 1, 1, 0, 0, 1, 1, 1, 0,\n",
              "       1, 0, 1, 0, 0, 0, 0, 1, 0, 0, 1, 1, 0, 0, 0, 1, 0, 0, 1, 1, 1, 1,\n",
              "       0, 1, 2, 1, 0, 1, 2, 1, 0, 1, 0, 0, 0, 0, 2, 1, 2, 0, 0, 0, 0, 2,\n",
              "       0, 0, 1, 2, 1, 0, 1, 1, 1, 0, 0, 0, 2, 1, 0, 2, 2, 1, 2, 0, 1, 1,\n",
              "       0, 0, 1, 1, 1, 0, 2, 1, 0, 1, 0, 0, 0, 1, 2, 0, 1, 1, 2, 0, 0, 1,\n",
              "       1, 1, 0, 0, 2, 0, 0, 2, 2, 2, 1, 2, 1, 1, 1, 1, 0, 0, 1, 1, 0, 2,\n",
              "       1, 1, 0, 1, 2, 1, 1, 0, 2, 1, 1, 1, 0, 0, 1, 1, 0, 1, 1, 1, 1, 1,\n",
              "       2, 1, 1, 0, 0, 1, 1, 1, 0, 1, 0, 1, 0, 1, 1, 0, 0, 1, 0, 0, 0, 0,\n",
              "       0, 1, 0, 1, 0, 1, 2, 1, 1, 0, 1, 0, 1, 2, 1, 1, 1, 2, 1, 0, 0, 0,\n",
              "       2, 2, 0, 1, 0, 0, 0, 0, 2, 1, 1, 2, 1, 2, 2, 1, 0, 0, 1, 0, 0, 1,\n",
              "       0, 1, 1, 1, 1, 0, 1, 0, 0, 1, 0, 0, 0, 1, 0, 0, 0, 0, 0, 0, 0, 0,\n",
              "       0, 0, 0, 0, 1, 1, 0, 0, 1, 1, 2, 0, 1, 1, 2, 0, 0, 0, 1, 0, 0, 1,\n",
              "       0, 0, 1, 1, 1, 2, 1, 0, 0, 2, 1, 1, 2, 0, 0, 0, 2, 2, 1, 1])"
            ]
          },
          "metadata": {},
          "execution_count": 52
        }
      ]
    }
  ]
}